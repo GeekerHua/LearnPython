{
 "cells": [
  {
   "cell_type": "markdown",
   "metadata": {},
   "source": [
    "## 1.匹配网址\n",
    "\n",
    "\n",
    "有一批网址：\n",
    "\n",
    "http://www.interoem.com/messageinfo.asp?id=35\n",
    "http://3995503.com/class/class09/news_show.asp?id=14\n",
    "http://lib.wzmc.edu.cn/news/onews.asp?id=769\n",
    "http://www.zy-ls.com/alfx.asp?newsid=377&id=6\n",
    "http://www.fincm.com/newslist.asp?id=415\n",
    "\n",
    "需要   正则后为：\n",
    "\n",
    "http://www.interoem.com/ \n",
    "\n",
    "http://3995503.com/ \n",
    "\n",
    "http://lib.wzmc.edu.cn/ \n",
    "\n",
    "http://www.zy-ls.com/ \n",
    "\n",
    "http://www.fincm.com/"
   ]
  },
  {
   "cell_type": "code",
   "execution_count": 9,
   "metadata": {
    "collapsed": true
   },
   "outputs": [],
   "source": [
    "import re"
   ]
  },
  {
   "cell_type": "code",
   "execution_count": 10,
   "metadata": {
    "collapsed": false
   },
   "outputs": [],
   "source": [
    "myStr = r'http://www.interoem.com/messageinfo.asp?id=35 http://3995503.com/class/class09/news_show.asp?id=14 http://lib.wzmc.edu.cn/news/onews.asp?id=769 http://www.zy-ls.com/alfx.asp?newsid=377&id=6 http://www.fincm.com/newslist.asp?id=415'\n"
   ]
  },
  {
   "cell_type": "code",
   "execution_count": 26,
   "metadata": {
    "collapsed": false
   },
   "outputs": [],
   "source": [
    "result = re.findall(r'http://.*?/', myStr)"
   ]
  },
  {
   "cell_type": "code",
   "execution_count": 27,
   "metadata": {
    "collapsed": false
   },
   "outputs": [
    {
     "data": {
      "text/plain": [
       "['http://www.interoem.com/',\n",
       " 'http://3995503.com/',\n",
       " 'http://lib.wzmc.edu.cn/',\n",
       " 'http://www.zy-ls.com/',\n",
       " 'http://www.fincm.com/']"
      ]
     },
     "execution_count": 27,
     "metadata": {},
     "output_type": "execute_result"
    }
   ],
   "source": [
    "result"
   ]
  },
  {
   "cell_type": "code",
   "execution_count": 31,
   "metadata": {
    "collapsed": false
   },
   "outputs": [
    {
     "data": {
      "text/plain": [
       "'http://www.interoem.com/\\nhttp://3995503.com/\\nhttp://lib.wzmc.edu.cn/\\nhttp://www.zy-ls.com/\\nhttp://www.fincm.com/'"
      ]
     },
     "execution_count": 31,
     "metadata": {},
     "output_type": "execute_result"
    }
   ],
   "source": [
    "'\\n'.join(result)"
   ]
  },
  {
   "cell_type": "markdown",
   "metadata": {},
   "source": [
    "## 2. 找出单词\n",
    "\n",
    "有一句英文如下：\n",
    "\n",
    "hello world ha ha\n",
    "\n",
    "查找所有的单词"
   ]
  },
  {
   "cell_type": "code",
   "execution_count": 32,
   "metadata": {
    "collapsed": true
   },
   "outputs": [],
   "source": [
    "wStr = 'hello world ha ha'"
   ]
  },
  {
   "cell_type": "code",
   "execution_count": 33,
   "metadata": {
    "collapsed": false
   },
   "outputs": [
    {
     "data": {
      "text/plain": [
       "['hello', 'world', 'ha', 'ha']"
      ]
     },
     "execution_count": 33,
     "metadata": {},
     "output_type": "execute_result"
    }
   ],
   "source": [
    "re.findall('\\w+', wStr)"
   ]
  },
  {
   "cell_type": "markdown",
   "metadata": {},
   "source": [
    "## 3. 识别下列字符串:“bat,” “bit,” “but,” “hat,” “hit,” 或 “hut"
   ]
  },
  {
   "cell_type": "code",
   "execution_count": 37,
   "metadata": {
    "collapsed": true
   },
   "outputs": [],
   "source": [
    "tStr = 'bat, bit, hat, but, hit ,hut, h-t, h_t, b_a'"
   ]
  },
  {
   "cell_type": "code",
   "execution_count": 153,
   "metadata": {
    "collapsed": false
   },
   "outputs": [
    {
     "data": {
      "text/plain": [
       "['bat', 'bit', 'hat', 'but', 'hit', 'hut']"
      ]
     },
     "execution_count": 153,
     "metadata": {},
     "output_type": "execute_result"
    }
   ],
   "source": [
    "result = re.findall(r'(?:b|h)[a-zA-Z]t', tStr)\n",
    "result"
   ]
  },
  {
   "cell_type": "markdown",
   "metadata": {},
   "source": [
    "> 这里有个问题，findall和match的模式（）的使用和[]的使用貌似不同\n",
    "在小括号中使用?:可以将小括号降级，只进行匹配，而不是只匹配括号中的内容"
   ]
  },
  {
   "cell_type": "code",
   "execution_count": 133,
   "metadata": {
    "collapsed": false
   },
   "outputs": [
    {
     "data": {
      "text/plain": [
       "['qq', 'qq']"
      ]
     },
     "execution_count": 133,
     "metadata": {},
     "output_type": "execute_result"
    }
   ],
   "source": [
    "ret = re.findall(r\"\\w{4,20}@(qq)\\.com\", \"test@qq.com, test@qq.com\")\n",
    "ret"
   ]
  },
  {
   "cell_type": "code",
   "execution_count": 131,
   "metadata": {
    "collapsed": false
   },
   "outputs": [
    {
     "data": {
      "text/plain": [
       "'test@qq.com'"
      ]
     },
     "execution_count": 131,
     "metadata": {},
     "output_type": "execute_result"
    }
   ],
   "source": [
    "ret = re.match(\"\\w{4,20}@(163|126|qq)\\.com\", \"test@qq.com\")\n",
    "ret.group()"
   ]
  },
  {
   "cell_type": "markdown",
   "metadata": {},
   "source": [
    "## 4. 匹配用一个空格分隔的任意一对单词，比如，名和姓"
   ]
  },
  {
   "cell_type": "code",
   "execution_count": 88,
   "metadata": {
    "collapsed": true
   },
   "outputs": [],
   "source": [
    "nStr = 'John Smith'"
   ]
  },
  {
   "cell_type": "code",
   "execution_count": 89,
   "metadata": {
    "collapsed": false
   },
   "outputs": [
    {
     "data": {
      "text/plain": [
       "['John', 'Smith']"
      ]
     },
     "execution_count": 89,
     "metadata": {},
     "output_type": "execute_result"
    }
   ],
   "source": [
    "re.split(' ', nStr)"
   ]
  },
  {
   "cell_type": "markdown",
   "metadata": {},
   "source": [
    "## 5. 匹配所有合法的Python标识符"
   ]
  },
  {
   "cell_type": "code",
   "execution_count": 99,
   "metadata": {
    "collapsed": false
   },
   "outputs": [
    {
     "data": {
      "text/plain": [
       "'_hello'"
      ]
     },
     "execution_count": 99,
     "metadata": {},
     "output_type": "execute_result"
    }
   ],
   "source": [
    "result = re.match(r\"[a-zA-A_]\\w+\", '_hello')\n",
    "result.group()"
   ]
  },
  {
   "cell_type": "markdown",
   "metadata": {},
   "source": [
    "## 6.匹配合法的ip地址"
   ]
  },
  {
   "cell_type": "code",
   "execution_count": 101,
   "metadata": {
    "collapsed": false
   },
   "outputs": [
    {
     "data": {
      "text/plain": [
       "'192.168.0.0'"
      ]
     },
     "execution_count": 101,
     "metadata": {},
     "output_type": "execute_result"
    }
   ],
   "source": [
    "result = re.match(r'\\d{1,3}\\.\\d{1,3}\\.\\d{1,3}\\.\\d{1,3}', '192.168.0.0.1')\n",
    "result.group()"
   ]
  },
  {
   "cell_type": "markdown",
   "metadata": {},
   "source": [
    "## 7. 匹配所有合法的电子邮件地址(先写出一个限制比较宽松的正则表达式，然后尽可能加 强限制条件，但要保证功能的正确性)。 "
   ]
  },
  {
   "cell_type": "code",
   "execution_count": 102,
   "metadata": {
    "collapsed": false
   },
   "outputs": [
    {
     "data": {
      "text/plain": [
       "'geekerhua@sina.com'"
      ]
     },
     "execution_count": 102,
     "metadata": {},
     "output_type": "execute_result"
    }
   ],
   "source": [
    "result = re.match(r'\\w{3,20}@\\w{1,10}\\.\\w{1,5}', 'geekerhua@sina.com')\n",
    "result.group()"
   ]
  },
  {
   "cell_type": "markdown",
   "metadata": {},
   "source": [
    "## 8. 将一篇中文文章中的电子邮件地址替换为你自己的电子邮件地址"
   ]
  },
  {
   "cell_type": "code",
   "execution_count": 104,
   "metadata": {
    "collapsed": false
   },
   "outputs": [
    {
     "data": {
      "text/plain": [
       "'skldfjlsjfs geekerhua.com23434'"
      ]
     },
     "execution_count": 104,
     "metadata": {},
     "output_type": "execute_result"
    }
   ],
   "source": [
    "re.sub(r'\\w{3,20}@\\w{1,10}\\.\\w{1,5}', 'geekerhua.com','skldfjlsjfs geekerhua.com23434')"
   ]
  },
  {
   "cell_type": "markdown",
   "metadata": {},
   "source": [
    "## 9. 取出属性data-original对应的url\n",
    "\\<\\img data-original=\"https://rpic.douyucdn.cn/z1609/07/15/478748_160907150833.jpg\" src=\"https://rpic.douyucdn.cn/z1609/07/15/478748_160907150833.jpg\" style=\"display: block;\">"
   ]
  },
  {
   "cell_type": "code",
   "execution_count": 154,
   "metadata": {
    "collapsed": false
   },
   "outputs": [
    {
     "name": "stdout",
     "output_type": "stream",
     "text": [
      "('https://rpic.douyucdn.cn/z1609/07/15/478748_160907150833.jpg',)\n",
      "----\n",
      "data-original=\"https://rpic.douyucdn.cn/z1609/07/15/478748_160907150833.jpg\"\n"
     ]
    }
   ],
   "source": [
    "urlStr = r'<img data-original=\"https://rpic.douyucdn.cn/z1609/07/15/478748_160907150833.jpg\" src=\"https://rpic.douyucdn.cn/z1609/07/15/478748_160907150833.jpg\" style=\"display: block;\">'\n",
    "result = re.search(r'data-original=\"(.*?)\"', urlStr)\n",
    "print(result.groups())\n",
    "print('----')\n",
    "print(result.group())"
   ]
  },
  {
   "cell_type": "code",
   "execution_count": null,
   "metadata": {
    "collapsed": true
   },
   "outputs": [],
   "source": []
  }
 ],
 "metadata": {
  "anaconda-cloud": {},
  "kernelspec": {
   "display_name": "Python [default]",
   "language": "python",
   "name": "python2"
  },
  "language_info": {
   "codemirror_mode": {
    "name": "ipython",
    "version": 2
   },
   "file_extension": ".py",
   "mimetype": "text/x-python",
   "name": "python",
   "nbconvert_exporter": "python",
   "pygments_lexer": "ipython2",
   "version": "2.7.12"
  }
 },
 "nbformat": 4,
 "nbformat_minor": 1
}
