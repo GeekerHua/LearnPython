{
 "cells": [
  {
   "cell_type": "markdown",
   "metadata": {},
   "source": [
    "## 简单的装饰器(decorator)"
   ]
  },
  {
   "cell_type": "code",
   "execution_count": 2,
   "metadata": {
    "collapsed": false
   },
   "outputs": [],
   "source": [
    "def w1(func):\n",
    "    def inner():\n",
    "        print(\"验证信息\")\n",
    "        func()\n",
    "    return inner()"
   ]
  },
  {
   "cell_type": "code",
   "execution_count": 16,
   "metadata": {
    "collapsed": false
   },
   "outputs": [
    {
     "name": "stdout",
     "output_type": "stream",
     "text": [
      "验证信息\n",
      "f1\n"
     ]
    }
   ],
   "source": [
    "@w1\n",
    "def f1():\n",
    "    print('f1')"
   ]
  },
  {
   "cell_type": "code",
   "execution_count": 6,
   "metadata": {
    "collapsed": false
   },
   "outputs": [
    {
     "name": "stdout",
     "output_type": "stream",
     "text": [
      "验证信息\n",
      "f2\n"
     ]
    }
   ],
   "source": [
    "@w1\n",
    "def f2():\n",
    "    print('f2')"
   ]
  },
  {
   "cell_type": "markdown",
   "metadata": {},
   "source": [
    "## 一个实际应用，包裹数据"
   ]
  },
  {
   "cell_type": "code",
   "execution_count": 9,
   "metadata": {
    "collapsed": false
   },
   "outputs": [
    {
     "name": "stdout",
     "output_type": "stream",
     "text": [
      "<b>hello world-1</b>\n",
      "<i>hellow amy</i>\n"
     ]
    }
   ],
   "source": [
    "def makeBold(fn):\n",
    "    def wrapped():\n",
    "        return \"<b>\" + fn() + '</b>'\n",
    "    return wrapped\n",
    "\n",
    "def makeItalic(fn):\n",
    "    def wrapped():\n",
    "        return '<i>' + fn() + '</i>'\n",
    "    return wrapped\n",
    "\n",
    "\n",
    "@makeBold\n",
    "def test1():\n",
    "    return(\"hello world-1\")\n",
    "\n",
    "@makeItalic\n",
    "def test2():\n",
    "    return(\"hellow amy\")\n",
    "\n",
    "print(test1())\n",
    "print(test2())"
   ]
  },
  {
   "cell_type": "markdown",
   "metadata": {},
   "source": [
    "## 装饰器的功能\n",
    "1. 引入日志\n",
    "2. 函数执行时间统计\n",
    "3. 执行函数前准备处理\n",
    "4. 执行函数后准备处理\n",
    "5. 权限校验等场景\n",
    "6. 缓存\n",
    "\n",
    "## 装饰器示例\n",
    "### 1.无参数的函数"
   ]
  },
  {
   "cell_type": "code",
   "execution_count": 28,
   "metadata": {
    "collapsed": false
   },
   "outputs": [
    {
     "name": "stdout",
     "output_type": "stream",
     "text": [
      "wrappend验证\n",
      "I am foo\n"
     ]
    }
   ],
   "source": [
    "def timefunc(func):\n",
    "    def wrappedfunc():\n",
    "        print('wrappend验证')\n",
    "        func()\n",
    "    return wrappedfunc\n",
    "\n",
    "@timefunc\n",
    "def foo():\n",
    "    print(\"I am foo\")\n",
    "\n",
    "foo()"
   ]
  },
  {
   "cell_type": "markdown",
   "metadata": {},
   "source": [
    "### 2.被装饰的函数有参数"
   ]
  },
  {
   "cell_type": "code",
   "execution_count": 32,
   "metadata": {
    "collapsed": false
   },
   "outputs": [
    {
     "name": "stdout",
     "output_type": "stream",
     "text": [
      "3\n",
      "6\n",
      "9\n"
     ]
    }
   ],
   "source": [
    "def timefunc(func):\n",
    "    def wrappedfunc(a, b):\n",
    "        print(a)\n",
    "        print(b)\n",
    "        func(a, b)\n",
    "    return wrappedfunc\n",
    "\n",
    "@timefunc\n",
    "def foo(a, b):\n",
    "    print(a + b)\n",
    "\n",
    "foo(3,6)"
   ]
  },
  {
   "cell_type": "markdown",
   "metadata": {
    "collapsed": true
   },
   "source": [
    "### 3.被装饰的函数有不定长参数"
   ]
  },
  {
   "cell_type": "code",
   "execution_count": 11,
   "metadata": {
    "collapsed": false
   },
   "outputs": [
    {
     "name": "stdout",
     "output_type": "stream",
     "text": [
      "foo\n",
      "12\n"
     ]
    }
   ],
   "source": [
    "def timefunc(func):\n",
    "    def wrappend(*args, **kwargs):\n",
    "        print(func.__name__)\n",
    "        func(*args, **kwargs)\n",
    "    return wrappend\n",
    "\n",
    "@timefunc\n",
    "def foo(a, b, c):\n",
    "    print(a + b + c)\n",
    "foo(3, 4 , 5)"
   ]
  },
  {
   "cell_type": "markdown",
   "metadata": {},
   "source": [
    "### 4.装饰器中的return\n",
    "一般情况下为了让装饰器更加通用，可以有return"
   ]
  },
  {
   "cell_type": "code",
   "execution_count": 17,
   "metadata": {
    "collapsed": false
   },
   "outputs": [
    {
     "name": "stdout",
     "output_type": "stream",
     "text": [
      "foo\n",
      "I am foo\n",
      "getInfo\n",
      "---haha---\n"
     ]
    }
   ],
   "source": [
    "def timefunc(func):\n",
    "    def wrappend():\n",
    "        print(func.__name__)\n",
    "        return func()\n",
    "    return wrappend\n",
    "\n",
    "@timefunc\n",
    "def foo():\n",
    "    print(\"I am foo\")\n",
    "    \n",
    "@timefunc\n",
    "def getInfo():\n",
    "    return('---haha---')\n",
    "\n",
    "foo()\n",
    "print(getInfo())"
   ]
  },
  {
   "cell_type": "markdown",
   "metadata": {},
   "source": [
    "### 5.装饰器带参数，在原有装饰器的基础上，设置外部变量"
   ]
  },
  {
   "cell_type": "code",
   "execution_count": 20,
   "metadata": {
    "collapsed": false
   },
   "outputs": [
    {
     "name": "stdout",
     "output_type": "stream",
     "text": [
      "foo\n",
      "ithaha\n",
      "I am foo\n"
     ]
    }
   ],
   "source": [
    "def timefunc_arg(pre='hello'):\n",
    "    def timefunc(func):\n",
    "        def wrappendfunc():\n",
    "            print(func.__name__)\n",
    "            print(pre)\n",
    "            func()\n",
    "        return wrappendfunc\n",
    "    return timefunc\n",
    "\n",
    "@timefunc_arg('ithaha')\n",
    "def foo():\n",
    "    print(\"I am foo\")\n",
    "\n",
    "foo()"
   ]
  },
  {
   "cell_type": "markdown",
   "metadata": {},
   "source": [
    "### 6.类修饰器(扩展)\n",
    "装饰器函数其实是这样一个接口约束，它必须接受一个callable对象作为参数，然后返回一个callable对象。在Python中一般callable对象都是函数，但也有例外。只要某个对象重载了__call__()方法，那么这个对象就是callable的"
   ]
  },
  {
   "cell_type": "code",
   "execution_count": 21,
   "metadata": {
    "collapsed": false
   },
   "outputs": [
    {
     "name": "stdout",
     "output_type": "stream",
     "text": [
      "call me\n"
     ]
    }
   ],
   "source": [
    "class Test():\n",
    "    def __call__(self):\n",
    "        print(\"call me\")\n",
    "        \n",
    "t = Test()\n",
    "t()"
   ]
  },
  {
   "cell_type": "code",
   "execution_count": 24,
   "metadata": {
    "collapsed": false
   },
   "outputs": [
    {
     "name": "stdout",
     "output_type": "stream",
     "text": [
      "初始化\n",
      "装饰器中的功能\n",
      "showpy\n"
     ]
    }
   ],
   "source": [
    "class Itcast(object):\n",
    "    def __init__(self, func):\n",
    "        print('初始化')\n",
    "        self.__func = func\n",
    "    \n",
    "    def __call__(self):\n",
    "        print('装饰器中的功能')\n",
    "        self.__func()\n",
    "        \n",
    "@Itcast\n",
    "def showpy():\n",
    "    print(\"showpy\")\n",
    "\n",
    "showpy()"
   ]
  },
  {
   "cell_type": "code",
   "execution_count": null,
   "metadata": {
    "collapsed": true
   },
   "outputs": [],
   "source": []
  }
 ],
 "metadata": {
  "anaconda-cloud": {},
  "kernelspec": {
   "display_name": "Python [default]",
   "language": "python",
   "name": "python2"
  },
  "language_info": {
   "codemirror_mode": {
    "name": "ipython",
    "version": 2
   },
   "file_extension": ".py",
   "mimetype": "text/x-python",
   "name": "python",
   "nbconvert_exporter": "python",
   "pygments_lexer": "ipython2",
   "version": "2.7.12"
  }
 },
 "nbformat": 4,
 "nbformat_minor": 1
}
