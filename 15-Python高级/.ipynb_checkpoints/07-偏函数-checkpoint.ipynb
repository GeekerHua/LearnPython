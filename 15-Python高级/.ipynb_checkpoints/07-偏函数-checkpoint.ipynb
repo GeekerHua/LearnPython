{
 "cells": [
  {
   "cell_type": "markdown",
   "metadata": {},
   "source": [
    "## partial函数(偏函数)\n",
    "把一个函数的某些参数设置默认值，返回一个新的函数，调用这个新函数会更简单。"
   ]
  },
  {
   "cell_type": "code",
   "execution_count": 2,
   "metadata": {
    "collapsed": false
   },
   "outputs": [
    {
     "name": "stdout",
     "output_type": "stream",
     "text": [
      "(1, 2, 4)\n",
      "{}\n",
      "(1, 2, 4, 4, 5, 7)\n",
      "{}\n"
     ]
    }
   ],
   "source": [
    "import functools\n",
    "\n",
    "def showarg(*args, **kwargs):\n",
    "    print(args)\n",
    "    print(kwargs)\n",
    "    \n",
    "p1 = functools.partial(showarg,1,2,4)\n",
    "p1()\n",
    "p1(4,5,7)"
   ]
  },
  {
   "cell_type": "code",
   "execution_count": 3,
   "metadata": {
    "collapsed": false
   },
   "outputs": [
    {
     "name": "stdout",
     "output_type": "stream",
     "text": [
      "()\n",
      "{'a': 3, 'b': 'linux'}\n",
      "(1, 2)\n",
      "{'a': 3, 'b': 'linux'}\n",
      "()\n",
      "{'a': 'python', 'b': 'itcast'}\n"
     ]
    }
   ],
   "source": [
    "p2=functools.partial(showarg, a=3,b='linux')\n",
    "p2()\n",
    "p2(1,2)\n",
    "p2(a='python', b='itcast')"
   ]
  },
  {
   "cell_type": "markdown",
   "metadata": {},
   "source": [
    "## wraps函数\n",
    "\n",
    "使用装饰器时，有一些细节需要被注意。例如，被装饰后的函数其实已经是另外一个函数了（函数名等函数属性会发生改变）。\n",
    "添加后由于函数名和函数的doc发生了改变，对测试结果有一些影响，例如:"
   ]
  },
  {
   "cell_type": "code",
   "execution_count": 6,
   "metadata": {
    "collapsed": false
   },
   "outputs": [
    {
     "name": "stdout",
     "output_type": "stream",
     "text": [
      "note something\n",
      "I am test\n",
      "wrapper function\n"
     ]
    }
   ],
   "source": [
    "def note(func):\n",
    "    \"note function\"\n",
    "    def wrapper():\n",
    "        \"wrapper function\"\n",
    "        print('note something')\n",
    "        return func()\n",
    "    return wrapper\n",
    "\n",
    "@note\n",
    "def test():\n",
    "    \"test function\"\n",
    "    print('I am test')\n",
    "\n",
    "test()\n",
    "print(test.__doc__)"
   ]
  },
  {
   "cell_type": "code",
   "execution_count": 5,
   "metadata": {
    "collapsed": false
   },
   "outputs": [
    {
     "name": "stdout",
     "output_type": "stream",
     "text": [
      "note something\n",
      "I am test\n",
      "test function\n"
     ]
    }
   ],
   "source": [
    "import functools\n",
    "def note(func):\n",
    "    \"note function\"\n",
    "    @functools.wraps(func)\n",
    "    def wrapper():\n",
    "        \"wrapper function\"\n",
    "        print('note something')\n",
    "        return func()\n",
    "    return wrapper\n",
    "\n",
    "@note\n",
    "def test():\n",
    "    \"test function\"\n",
    "    print('I am test')\n",
    "\n",
    "test()\n",
    "print(test.__doc__)"
   ]
  },
  {
   "cell_type": "code",
   "execution_count": null,
   "metadata": {
    "collapsed": true
   },
   "outputs": [],
   "source": []
  }
 ],
 "metadata": {
  "kernelspec": {
   "display_name": "Python [default]",
   "language": "python",
   "name": "python2"
  },
  "language_info": {
   "codemirror_mode": {
    "name": "ipython",
    "version": 2
   },
   "file_extension": ".py",
   "mimetype": "text/x-python",
   "name": "python",
   "nbconvert_exporter": "python",
   "pygments_lexer": "ipython2",
   "version": "2.7.12"
  }
 },
 "nbformat": 4,
 "nbformat_minor": 1
}
